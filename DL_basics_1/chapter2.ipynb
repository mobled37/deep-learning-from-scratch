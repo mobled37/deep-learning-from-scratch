{
 "cells": [
  {
   "cell_type": "markdown",
   "metadata": {},
   "source": [
    "**2.1. Perceptron**\n",
    "\n",
    "다수의 신호를 입력으로 받아 하나의 신호 출력\n",
    "\n",
    "input = $x_1, x_2$\n",
    "\n",
    "output = $y$\n",
    "\n",
    "weight = $w_1, w_2$ ≈ resistance, opposite direction\n",
    "\n",
    "input and output called **neuron** or **node**  \n",
    "\n",
    "뉴런에서 보내온 신호의 총합이 정해진 한계를 넘어설 때만 1을 출력, (뉴런이 활성화한다) - $\\theta$, **threshold**\n",
    "\n",
    "$$y=\\left\\{\\begin{array}{l}0\\left(w_1 x_1+w_2 x_2 \\leq \\theta\\right) \\\\ 1\\left(w_1 x_1+w_2 x_2>\\theta\\right)\\end{array}\\right.$$"
   ]
  },
  {
   "cell_type": "markdown",
   "metadata": {},
   "source": [
    "**2.2.1 AND Gate**\n",
    "\n",
    "두 입력이 모두 1일 때만 1을 출력, 그 외에는 0을 출력\n",
    "\n",
    "|$x_1$|$x_2$|$y$|\n",
    "|---|---|---|\n",
    "|0|0|0|\n",
    "|1|0|0|\n",
    "|0|1|0|\n",
    "|1|1|1|\n",
    "\n",
    "**Example**\n",
    "\n",
    "$(w_1, w_2, \\theta)$ = (0.5, 0.5, 0.7) / (0.5, 0.5, 0.9) / (1.0, 0.1, 1.0) - OK"
   ]
  },
  {
   "cell_type": "markdown",
   "metadata": {},
   "source": [
    "**2.2.2 NAND and OR Gate**\n",
    "\n",
    "**NAND**\n",
    "\n",
    "= Not AND\n",
    "\n",
    "$x_1$ && $x_2$ == 1 일 때만 0 출력, 그 외에는 1 출력\n",
    "\n",
    "|$x_1$|$x_2$|$y$|\n",
    "|---|---|---|\n",
    "|0|0|1|\n",
    "|1|0|1|\n",
    "|0|1|1|\n",
    "|1|1|0|\n",
    "\n",
    "**OR**\n",
    "\n",
    "$x_1$ or $x_2$ == 1 일때 1 출력, 그 외에는 0\n",
    "\n",
    "|$x_1$|$x_2$|$y$|\n",
    "|---|---|---|\n",
    "|0|0|0|\n",
    "|1|0|1|\n",
    "|0|1|1|\n",
    "|1|1|1|"
   ]
  },
  {
   "cell_type": "markdown",
   "metadata": {},
   "source": [
    "**2.3 Implement Perceptron**"
   ]
  },
  {
   "cell_type": "code",
   "execution_count": 1,
   "metadata": {},
   "outputs": [],
   "source": [
    "# 2.3.1 Simple Implementation\n",
    "def AND(x1, x2):\n",
    "    w1, w2, theta = 0.5, 0.5, 0.7\n",
    "    perceptron = w1 * x1 + w2 * x2 \n",
    "    if perceptron > theta:\n",
    "        return 1\n",
    "    else:\n",
    "        return 0"
   ]
  },
  {
   "cell_type": "code",
   "execution_count": 3,
   "metadata": {},
   "outputs": [
    {
     "name": "stdout",
     "output_type": "stream",
     "text": [
      "0\n",
      "0\n",
      "0\n",
      "1\n"
     ]
    }
   ],
   "source": [
    "print(AND(0, 0))\n",
    "print(AND(0, 1))\n",
    "print(AND(1, 0))\n",
    "print(AND(1, 1))"
   ]
  },
  {
   "cell_type": "markdown",
   "metadata": {},
   "source": [
    "**2.3.2 Adding Weight and Bias**\n",
    "\n",
    "$\\theta$를 $-b$로 치환하면 아래의 식과 같다.\n",
    "\n",
    "여기서, $b$를 편향 (bias) 라고 한다.\n",
    "\n",
    "$$y=\\left\\{\\begin{array}{l}\n",
    "0\\left(b+w_1 x_1+w_2 x_2 \\leq 0\\right) \\\\\n",
    "1\\left(b+w_1 x_1+w_2 x_2>0\\right)\n",
    "\\end{array}\\right.$$"
   ]
  },
  {
   "cell_type": "code",
   "execution_count": 6,
   "metadata": {},
   "outputs": [
    {
     "name": "stdout",
     "output_type": "stream",
     "text": [
      "1\n"
     ]
    }
   ],
   "source": [
    "import numpy as np \n",
    "\n",
    "def AND_np(x, w, b):\n",
    "    perceptron = x * w - b\n",
    "    perceptron = np.sum(perceptron) # add whole elements inside array\n",
    "\n",
    "    if perceptron > 0:\n",
    "        return 1\n",
    "    else:\n",
    "        return 0\n",
    "    \n",
    "b = -7\n",
    "x = np.array([0, 1])\n",
    "w = np.array([0.5, 0.5])\n",
    "print(AND_np(x=x, w=w, b=b))"
   ]
  },
  {
   "cell_type": "code",
   "execution_count": null,
   "metadata": {},
   "outputs": [],
   "source": []
  }
 ],
 "metadata": {
  "kernelspec": {
   "display_name": "scratch",
   "language": "python",
   "name": "python3"
  },
  "language_info": {
   "codemirror_mode": {
    "name": "ipython",
    "version": 3
   },
   "file_extension": ".py",
   "mimetype": "text/x-python",
   "name": "python",
   "nbconvert_exporter": "python",
   "pygments_lexer": "ipython3",
   "version": "3.11.5"
  },
  "orig_nbformat": 4
 },
 "nbformat": 4,
 "nbformat_minor": 2
}
