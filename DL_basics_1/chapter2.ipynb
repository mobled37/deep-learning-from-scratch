{
 "cells": [
  {
   "cell_type": "markdown",
   "metadata": {},
   "source": [
    "### 2.1. Perceptron\n",
    "\n",
    "다수의 신호를 입력으로 받아 하나의 신호 출력\n",
    "\n",
    "input = $x_1, x_2$\n",
    "\n",
    "output = $y$\n",
    "\n",
    "weight = $w_1, w_2$ ≈ resistance, opposite direction\n",
    "\n",
    "input and output called **neuron** or **node**  \n",
    "\n",
    "뉴런에서 보내온 신호의 총합이 정해진 한계를 넘어설 때만 1을 출력, (뉴런이 활성화한다) - $\\theta$, **threshold**\n",
    "\n",
    "$$y=\\left\\{\\begin{array}{l}0\\left(w_1 x_1+w_2 x_2 \\leq \\theta\\right) \\\\ 1\\left(w_1 x_1+w_2 x_2>\\theta\\right)\\end{array}\\right.$$"
   ]
  },
  {
   "cell_type": "markdown",
   "metadata": {},
   "source": [
    "### 2.2 Simple Logic Gate\n",
    "\n",
    "**2.2.1 AND Gate**\n",
    "\n",
    "두 입력이 모두 1일 때만 1을 출력, 그 외에는 0을 출력\n",
    "\n",
    "|$x_1$|$x_2$|$y$|\n",
    "|---|---|---|\n",
    "|0|0|0|\n",
    "|1|0|0|\n",
    "|0|1|0|\n",
    "|1|1|1|\n",
    "\n",
    "**Example**\n",
    "\n",
    "$(w_1, w_2, \\theta)$ = (0.5, 0.5, 0.7) / (0.5, 0.5, 0.9) / (1.0, 0.1, 1.0) - OK"
   ]
  },
  {
   "cell_type": "markdown",
   "metadata": {},
   "source": [
    "**2.2.2 NAND and OR Gate**\n",
    "\n",
    "**NAND**\n",
    "\n",
    "= Not AND\n",
    "\n",
    "$x_1$ && $x_2$ == 1 일 때만 0 출력, 그 외에는 1 출력\n",
    "\n",
    "|$x_1$|$x_2$|$y$|\n",
    "|---|---|---|\n",
    "|0|0|1|\n",
    "|1|0|1|\n",
    "|0|1|1|\n",
    "|1|1|0|\n",
    "\n",
    "**OR**\n",
    "\n",
    "$x_1$ or $x_2$ == 1 일때 1 출력, 그 외에는 0\n",
    "\n",
    "|$x_1$|$x_2$|$y$|\n",
    "|---|---|---|\n",
    "|0|0|0|\n",
    "|1|0|1|\n",
    "|0|1|1|\n",
    "|1|1|1|"
   ]
  },
  {
   "cell_type": "markdown",
   "metadata": {},
   "source": [
    "### 2.3 Implement Perceptron"
   ]
  },
  {
   "cell_type": "code",
   "execution_count": 1,
   "metadata": {},
   "outputs": [],
   "source": [
    "# 2.3.1 Simple Implementation\n",
    "def AND(x1, x2):\n",
    "    w1, w2, theta = 0.5, 0.5, 0.7\n",
    "    perceptron = w1 * x1 + w2 * x2 \n",
    "    if perceptron > theta:\n",
    "        return 1\n",
    "    else:\n",
    "        return 0"
   ]
  },
  {
   "cell_type": "code",
   "execution_count": 3,
   "metadata": {},
   "outputs": [
    {
     "name": "stdout",
     "output_type": "stream",
     "text": [
      "0\n",
      "0\n",
      "0\n",
      "1\n"
     ]
    }
   ],
   "source": [
    "print(AND(0, 0))\n",
    "print(AND(0, 1))\n",
    "print(AND(1, 0))\n",
    "print(AND(1, 1))"
   ]
  },
  {
   "cell_type": "markdown",
   "metadata": {},
   "source": [
    "**2.3.2 Adding Weight and Bias**\n",
    "\n",
    "$\\theta$를 $-b$로 치환하면 아래의 식과 같다.\n",
    "\n",
    "여기서, $b$를 편향 (bias) 라고 한다.\n",
    "\n",
    "$$y=\\left\\{\\begin{array}{l}\n",
    "0\\left(b+w_1 x_1+w_2 x_2 \\leq 0\\right) \\\\\n",
    "1\\left(b+w_1 x_1+w_2 x_2>0\\right)\n",
    "\\end{array}\\right.$$"
   ]
  },
  {
   "cell_type": "markdown",
   "metadata": {},
   "source": [
    "**2.3.3 Implement Weight and Bias**"
   ]
  },
  {
   "cell_type": "code",
   "execution_count": 8,
   "metadata": {},
   "outputs": [
    {
     "name": "stdout",
     "output_type": "stream",
     "text": [
      "0\n"
     ]
    }
   ],
   "source": [
    "import numpy as np \n",
    "\n",
    "# Implement AND\n",
    "def AND_np(x, w, b):\n",
    "    perceptron = np.sum(x * w) # add whole elements inside array\n",
    "    perceptron = perceptron + b\n",
    "\n",
    "    if perceptron > 0:\n",
    "        return 1\n",
    "    else:\n",
    "        return 0\n",
    "    \n",
    "b = -0.7\n",
    "x = np.array([0, 1])\n",
    "w = np.array([0.5, 0.5])\n",
    "print(AND_np(x=x, w=w, b=b))"
   ]
  },
  {
   "cell_type": "code",
   "execution_count": 9,
   "metadata": {},
   "outputs": [
    {
     "name": "stdout",
     "output_type": "stream",
     "text": [
      "1\n"
     ]
    }
   ],
   "source": [
    "import numpy as np \n",
    "\n",
    "# Implement NAND\n",
    "def NAND_np(x, w, b):\n",
    "    perceptron = np.sum(x * w)\n",
    "    perceptron += b\n",
    "    \n",
    "    if perceptron > 0:\n",
    "        return 0\n",
    "    else: \n",
    "        return 1\n",
    "    \n",
    "b = -0.7\n",
    "x = np.array([0, 1])\n",
    "w = np.array([0.5, 0.5])\n",
    "print(NAND_np(x=x, w=w, b=b))\n",
    "    "
   ]
  },
  {
   "cell_type": "code",
   "execution_count": 13,
   "metadata": {},
   "outputs": [
    {
     "name": "stdout",
     "output_type": "stream",
     "text": [
      "0\n",
      "1\n",
      "1\n",
      "1\n"
     ]
    }
   ],
   "source": [
    "import numpy as np \n",
    "\n",
    "# Suppose x1 and x2 can only choose 0 or 1\n",
    "# Implement OR\n",
    "def OR_np(x1, x2):\n",
    "    x = np.array([x1, x2])\n",
    "    w = np.array([0.5, 0.5])\n",
    "    b = -0.5\n",
    "    \n",
    "    perceptron = np.sum(x * w)\n",
    "    perceptron += b\n",
    "    \n",
    "    if perceptron >= 0:\n",
    "        return 1\n",
    "    else:\n",
    "        return 0\n",
    "    \n",
    "print(OR_np(0, 0))  # must be False \n",
    "print(OR_np(0, 1))  # must be True\n",
    "print(OR_np(1, 0))  # must be True \n",
    "print(OR_np(1, 1))  # must be True "
   ]
  },
  {
   "cell_type": "markdown",
   "metadata": {},
   "source": [
    "### 2.4 Limitation of Perceptron\n",
    "\n",
    "**2.4.1 XOR Gate**\n",
    "\n",
    "XOR = 배타적 논리합 \n",
    "\n",
    "$x_1, x_2$ 둘 중 하나만 1일 때만 1 출력\n",
    "\n",
    "|$x_1$|$x_2$|$y$|\n",
    "|---|---|---|\n",
    "|0|0|0|\n",
    "|1|0|1|\n",
    "|0|1|1|\n",
    "|1|1|0|\n",
    "\n",
    "지금 까지 본 Perceptron으로는 사실 XOR gate를 구현할 수 없음\n",
    "\n",
    "즉, Linear Classifier로 나눌 수 없다는 이야기 ($y = w * x + b$의 구조)\n",
    "\n",
    "![Linear Classifier](Figures/2_3_linear_classifier.png)"
   ]
  },
  {
   "cell_type": "markdown",
   "metadata": {},
   "source": [
    "**2.4.2 Linear and Non-Linear Classifier**\n",
    "\n",
    "Example of Non-Linear Classifier\n",
    "\n",
    "![Non-Linear](Figures/2_3_non_linear_classifier.png)\n",
    "\n",
    "This can implement XOR"
   ]
  },
  {
   "cell_type": "markdown",
   "metadata": {},
   "source": [
    "### 2.5 Multi-layer Perceptron 충돌\n",
    "\n",
    "이번 절에서는 층을 하나 더 쌓아서 XOR을 표현한다. \n",
    "\n",
    "- 층을 쌓는다는 것은 곧 Non-linear Classifier를 만든다는 이야기와 같다. "
   ]
  },
  {
   "cell_type": "markdown",
   "metadata": {},
   "source": [
    "**2.5.1 기존 게이트 조합하기**\n",
    "\n",
    "여기서 소개하는 방법은 기존 AND, NAND, OR 게이트를 조합하는 방법이다. 기호는 다음과 같다. \n",
    "\n",
    "$\\circ$ 기호는 출력을 반전한다는 의미이다.\n",
    "\n",
    "![Notation](Figures/2_5_and_nand_or.png)\n",
    "\n",
    "XOR 게이트는 아래와 같은 조합으로 나타낼 수 있다. \n",
    "\n",
    "![XOR](Figures/2_5_XOR.png)\n",
    "\n",
    "Output of NAND = $s_1$\n",
    "Output of OR = $s_2$\n",
    "\n",
    "|$x_1$|$x_2$|$s_1$|$s_2$|$y$|\n",
    "|---|---|---|---|---|\n",
    "|0|0|1|0|0|\n",
    "|1|0|1|1|1|\n",
    "|0|1|1|1|1|\n",
    "|1|1|0|1|0|\n"
   ]
  },
  {
   "cell_type": "markdown",
   "metadata": {},
   "source": [
    "**2.5.2 Implement XOR Gate**"
   ]
  },
  {
   "cell_type": "code",
   "execution_count": 18,
   "metadata": {},
   "outputs": [
    {
     "name": "stdout",
     "output_type": "stream",
     "text": [
      "0\n",
      "1\n",
      "1\n",
      "0\n"
     ]
    }
   ],
   "source": [
    "def XOR(x1, x2):\n",
    "    x = np.array([x1, x2])\n",
    "    w = np.array([0.5, 0.5])\n",
    "    b = -0.7\n",
    "    \n",
    "    s1 = NAND_np(x=x, w=w, b=b)\n",
    "    s2 = OR_np(x1=x1, x2=x2)\n",
    "    \n",
    "    return AND_np(np.array([s1, s2]), w, b)\n",
    "    \n",
    "print(XOR(0, 0)) # must be 0\n",
    "print(XOR(1, 0)) # must be 1 \n",
    "print(XOR(0, 1)) # must be 1 \n",
    "print(XOR(1, 1)) # must be 0"
   ]
  },
  {
   "cell_type": "markdown",
   "metadata": {},
   "source": [
    "![xorperceptron](Figures/2_5_XOR_perceptron.png)\n",
    "\n",
    "이와 같은 다층 구조의 네트워크를 Multi-layer Perceptron이라 칭한다. \n",
    "\n",
    "해당 XOR Gate는 2층 Perceptron이다 (출력은 제외한다)\n",
    "\n",
    "1. 0층의 두 뉴런이 입력 신호를 받아 1층의 뉴런으로 신호를 보낸다\n",
    "\n",
    "2. 1층의 뉴런이 2층의 뉴런으로 신호를 보내고, 2층의 뉴런은 y를 출력한다."
   ]
  }
 ],
 "metadata": {
  "kernelspec": {
   "display_name": "scratch",
   "language": "python",
   "name": "python3"
  },
  "language_info": {
   "codemirror_mode": {
    "name": "ipython",
    "version": 3
   },
   "file_extension": ".py",
   "mimetype": "text/x-python",
   "name": "python",
   "nbconvert_exporter": "python",
   "pygments_lexer": "ipython3",
   "version": "3.11.5"
  },
  "orig_nbformat": 4
 },
 "nbformat": 4,
 "nbformat_minor": 2
}
